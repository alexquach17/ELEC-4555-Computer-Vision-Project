{
 "cells": [
  {
   "cell_type": "code",
   "execution_count": 1,
   "metadata": {},
   "outputs": [],
   "source": [
    "import cv2\n",
    "import numpy as np\n",
    "import matplotlib.pyplot as plt\n",
    "import time"
   ]
  },
  {
   "cell_type": "code",
   "execution_count": 2,
   "metadata": {},
   "outputs": [],
   "source": [
    "#Set up...\n",
    "confthreshold =0.5\n",
    "nmsthreshold = 0.3\n",
    "modelconfiguration='yolov3.cfg'\n",
    "modelweight='yolov3.weights'\n",
    "classfile='coco.names'\n",
    "classnames=[]\n",
    "with open(classfile,'rt') as f:\n",
    "    classnames=f.read().rstrip('\\n').split('\\n')\n",
    "net = cv2.dnn.readNet(modelweight, modelconfiguration)\n",
    "net.setPreferableBackend(cv2.dnn.DNN_BACKEND_CUDA)\n",
    "net.setPreferableTarget(cv2.dnn.DNN_TARGET_CUDA)"
   ]
  },
  {
   "cell_type": "code",
   "execution_count": 3,
   "metadata": {},
   "outputs": [],
   "source": [
    "def findObjects(outputs,img):\n",
    "    hT,wT,cT=img.shape\n",
    "    boundbox=[]\n",
    "    classIDs=[]\n",
    "    confs=[]\n",
    "    #detect object,compuate and find the max score for each.\n",
    "    for output in outputs:\n",
    "        for dect in output:\n",
    "            scores = dect[5:]\n",
    "            classID = np.argmax(scores)\n",
    "            confidence = scores[classID]\n",
    "            if confidence > confthreshold:\n",
    "                w,h = int(dect[2]*wT),int(dect[3]*hT)\n",
    "                x,y = int((dect[0]*wT)-w/2),int((dect[1]*hT)-h/2)\n",
    "                boundbox.append([x,y,w,h])\n",
    "                classIDs.append(classID)\n",
    "                confs.append(float(confidence))\n",
    "    indices=cv2.dnn.NMSBoxes(boundbox,confs,confthreshold,nmsthreshold)\n",
    "    #draw bounding box and label output name\n",
    "    for i in indices:\n",
    "        i=i[0]\n",
    "        box = boundbox[i]\n",
    "        x,y,w,h = box[0],box[1],box[2],box[3]\n",
    "        cv2.rectangle(img,(x,y),(x+w,y+h),(255,0,255),2)\n",
    "        cv2.putText(img,f'{classnames[classIDs[i]].upper()}{int(confs[i]*100)}%',\n",
    "                   (x,y-10),cv2.FONT_HERSHEY_SIMPLEX,0.6,(255,0,255),2)"
   ]
  },
  {
   "cell_type": "code",
   "execution_count": 8,
   "metadata": {},
   "outputs": [],
   "source": [
    "#Take in an video source and label rect and names for each object.\n",
    "def filedet(filename,wh):\n",
    "    cap=cv2.VideoCapture(filename)\n",
    "    prev_frame_time = 0\n",
    "    new_frame_time = 0\n",
    "    cv2.startWindowThread()\n",
    "    if (cap.isOpened()== False): \n",
    "        print(\"Error opening video stream or file\")\n",
    "    while True:\n",
    "        success,img=cap.read()\n",
    "        blob=cv2.dnn.blobFromImage(img,1/255,(wh,wh),[0,0,0],1,crop=False)\n",
    "        net.setInput(blob)\n",
    "        layerNames= net.getLayerNames()\n",
    "        outputNames = [layerNames[i[0]-1] for i in net.getUnconnectedOutLayers()]\n",
    "        outputs=net.forward(outputNames)\n",
    "        findObjects(outputs,img)\n",
    "        #find fps\n",
    "        gray = img\n",
    "        font = cv2.FONT_HERSHEY_SIMPLEX\n",
    "        new_frame_time = time.time()\n",
    "        fps = 1/(new_frame_time-prev_frame_time) \n",
    "        prev_frame_time = new_frame_time \n",
    "        fps = int(fps)\n",
    "        fps = str(fps)\n",
    "        cv2.putText(gray, fps, (7, 70), font, 1, (100, 255, 0), 3, cv2.LINE_AA)\n",
    "        #open final window\n",
    "        cv2.imshow('Img',img)\n",
    "        #press q to quite the window\n",
    "        if cv2.waitKey(25) & 0xFF == ord('q'):\n",
    "            break\n",
    "    cap.release()\n",
    "    cv2.destroyAllWindows()"
   ]
  },
  {
   "cell_type": "code",
   "execution_count": 9,
   "metadata": {},
   "outputs": [
    {
     "ename": "error",
     "evalue": "OpenCV(4.4.0) C:\\Users\\appveyor\\AppData\\Local\\Temp\\1\\pip-req-build-h4wtvo23\\opencv\\modules\\imgproc\\src\\resize.cpp:3929: error: (-215:Assertion failed) !ssize.empty() in function 'cv::resize'\n",
     "output_type": "error",
     "traceback": [
      "\u001b[1;31m---------------------------------------------------------------------------\u001b[0m",
      "\u001b[1;31merror\u001b[0m                                     Traceback (most recent call last)",
      "\u001b[1;32m<ipython-input-9-9949b7dfe4db>\u001b[0m in \u001b[0;36m<module>\u001b[1;34m\u001b[0m\n\u001b[1;32m----> 1\u001b[1;33m \u001b[0mfiledet\u001b[0m\u001b[1;33m(\u001b[0m\u001b[0mfilename\u001b[0m\u001b[1;33m=\u001b[0m\u001b[1;34m'Test.mp4'\u001b[0m\u001b[1;33m,\u001b[0m\u001b[0mwh\u001b[0m\u001b[1;33m=\u001b[0m\u001b[1;36m320\u001b[0m\u001b[1;33m)\u001b[0m\u001b[1;33m\u001b[0m\u001b[1;33m\u001b[0m\u001b[0m\n\u001b[0m",
      "\u001b[1;32m<ipython-input-8-2b8492f1cb02>\u001b[0m in \u001b[0;36mfiledet\u001b[1;34m(filename, wh)\u001b[0m\n\u001b[0;32m      9\u001b[0m     \u001b[1;32mwhile\u001b[0m \u001b[1;32mTrue\u001b[0m\u001b[1;33m:\u001b[0m\u001b[1;33m\u001b[0m\u001b[1;33m\u001b[0m\u001b[0m\n\u001b[0;32m     10\u001b[0m         \u001b[0msuccess\u001b[0m\u001b[1;33m,\u001b[0m\u001b[0mimg\u001b[0m\u001b[1;33m=\u001b[0m\u001b[0mcap\u001b[0m\u001b[1;33m.\u001b[0m\u001b[0mread\u001b[0m\u001b[1;33m(\u001b[0m\u001b[1;33m)\u001b[0m\u001b[1;33m\u001b[0m\u001b[1;33m\u001b[0m\u001b[0m\n\u001b[1;32m---> 11\u001b[1;33m         \u001b[0mblob\u001b[0m\u001b[1;33m=\u001b[0m\u001b[0mcv2\u001b[0m\u001b[1;33m.\u001b[0m\u001b[0mdnn\u001b[0m\u001b[1;33m.\u001b[0m\u001b[0mblobFromImage\u001b[0m\u001b[1;33m(\u001b[0m\u001b[0mimg\u001b[0m\u001b[1;33m,\u001b[0m\u001b[1;36m1\u001b[0m\u001b[1;33m/\u001b[0m\u001b[1;36m255\u001b[0m\u001b[1;33m,\u001b[0m\u001b[1;33m(\u001b[0m\u001b[0mwh\u001b[0m\u001b[1;33m,\u001b[0m\u001b[0mwh\u001b[0m\u001b[1;33m)\u001b[0m\u001b[1;33m,\u001b[0m\u001b[1;33m[\u001b[0m\u001b[1;36m0\u001b[0m\u001b[1;33m,\u001b[0m\u001b[1;36m0\u001b[0m\u001b[1;33m,\u001b[0m\u001b[1;36m0\u001b[0m\u001b[1;33m]\u001b[0m\u001b[1;33m,\u001b[0m\u001b[1;36m1\u001b[0m\u001b[1;33m,\u001b[0m\u001b[0mcrop\u001b[0m\u001b[1;33m=\u001b[0m\u001b[1;32mFalse\u001b[0m\u001b[1;33m)\u001b[0m\u001b[1;33m\u001b[0m\u001b[1;33m\u001b[0m\u001b[0m\n\u001b[0m\u001b[0;32m     12\u001b[0m         \u001b[0mnet\u001b[0m\u001b[1;33m.\u001b[0m\u001b[0msetInput\u001b[0m\u001b[1;33m(\u001b[0m\u001b[0mblob\u001b[0m\u001b[1;33m)\u001b[0m\u001b[1;33m\u001b[0m\u001b[1;33m\u001b[0m\u001b[0m\n\u001b[0;32m     13\u001b[0m         \u001b[0mlayerNames\u001b[0m\u001b[1;33m=\u001b[0m \u001b[0mnet\u001b[0m\u001b[1;33m.\u001b[0m\u001b[0mgetLayerNames\u001b[0m\u001b[1;33m(\u001b[0m\u001b[1;33m)\u001b[0m\u001b[1;33m\u001b[0m\u001b[1;33m\u001b[0m\u001b[0m\n",
      "\u001b[1;31merror\u001b[0m: OpenCV(4.4.0) C:\\Users\\appveyor\\AppData\\Local\\Temp\\1\\pip-req-build-h4wtvo23\\opencv\\modules\\imgproc\\src\\resize.cpp:3929: error: (-215:Assertion failed) !ssize.empty() in function 'cv::resize'\n"
     ]
    }
   ],
   "source": [
    "filedet(filename='Test.mp4',wh=320)"
   ]
  },
  {
   "cell_type": "code",
   "execution_count": null,
   "metadata": {},
   "outputs": [],
   "source": []
  },
  {
   "cell_type": "code",
   "execution_count": null,
   "metadata": {},
   "outputs": [],
   "source": []
  }
 ],
 "metadata": {
  "kernelspec": {
   "display_name": "Python 3",
   "language": "python",
   "name": "python3"
  },
  "language_info": {
   "codemirror_mode": {
    "name": "ipython",
    "version": 3
   },
   "file_extension": ".py",
   "mimetype": "text/x-python",
   "name": "python",
   "nbconvert_exporter": "python",
   "pygments_lexer": "ipython3",
   "version": "3.8.3"
  }
 },
 "nbformat": 4,
 "nbformat_minor": 4
}
